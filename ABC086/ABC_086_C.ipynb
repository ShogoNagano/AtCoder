{
 "cells": [
  {
   "cell_type": "markdown",
   "metadata": {},
   "source": [
    "方針  \n",
    "一つ後との差が偶数になればOK. \n",
    "入力例１でいれば　移動距離 3に対して　距離3 移動距離3に対して距離1だから通る  \n",
    "正確には移動距離-距離=2n  \n",
    "\n",
    "計算時間について\n",
    "O(N^1)で通るはず。"
   ]
  },
  {
   "cell_type": "code",
   "execution_count": 11,
   "metadata": {},
   "outputs": [
    {
     "name": "stdout",
     "output_type": "stream",
     "text": [
      "2\n"
     ]
    }
   ],
   "source": [
    "N=int(input())"
   ]
  },
  {
   "cell_type": "code",
   "execution_count": null,
   "metadata": {},
   "outputs": [
    {
     "name": "stdout",
     "output_type": "stream",
     "text": [
      "2 2 0\n"
     ]
    }
   ],
   "source": [
    "t_before=0\n",
    "x_before=0\n",
    "y_before=0\n",
    "import sys\n",
    "\n",
    "for i in range (N):\n",
    "    t, x, y =map(int,input().split())\n",
    "    t_diff=t-t_before\n",
    "    distance=abs(x-x_before)+abs(y-y_before)\n",
    "    if (t_diff-distance)%2!=0 or distance>t_diff:\n",
    "        print(\"No\")\n",
    "        sys.exit()\n",
    "    else:\n",
    "        t_before=t\n",
    "        x_before=x\n",
    "        y_before=y\n",
    "    \n",
    "        \n",
    "\n",
    "print (\"Yes\")"
   ]
  },
  {
   "cell_type": "code",
   "execution_count": null,
   "metadata": {},
   "outputs": [],
   "source": []
  }
 ],
 "metadata": {
  "kernelspec": {
   "display_name": "Python 3",
   "language": "python",
   "name": "python3"
  },
  "language_info": {
   "codemirror_mode": {
    "name": "ipython",
    "version": 3
   },
   "file_extension": ".py",
   "mimetype": "text/x-python",
   "name": "python",
   "nbconvert_exporter": "python",
   "pygments_lexer": "ipython3",
   "version": "3.6.5"
  }
 },
 "nbformat": 4,
 "nbformat_minor": 2
}
