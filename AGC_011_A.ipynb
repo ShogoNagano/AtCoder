{
 "cells": [
  {
   "cell_type": "code",
   "execution_count": 31,
   "metadata": {},
   "outputs": [],
   "source": [
    "#N基準だと通過できる\n",
    "#Nの条件によって操作をかえる"
   ]
  },
  {
   "cell_type": "code",
   "execution_count": null,
   "metadata": {},
   "outputs": [],
   "source": [
    "N,C,K=map(int,input().split())\n",
    "tourist=[]\n",
    "for i in range (N):\n",
    "    T=int(input())\n",
    "    tourist.append(T)\n",
    "tourist.sort()\n",
    "bus_count=1\n",
    "bus_tourlist=1\n",
    "bus_limit=tourist[0]+K\n",
    "for j in range (1,len(tourist)):\n",
    "    if bus_tourlist==C or tourist[j]>bus_limit:\n",
    "        bus_count+=1\n",
    "        bus_limit=tourist[j]+K\n",
    "        bus_tourlist=1\n",
    "    \n",
    "    else:\n",
    "        bus_tourlist+=1\n",
    "print(bus_count)\n"
   ]
  }
 ],
 "metadata": {
  "kernelspec": {
   "display_name": "Python 3",
   "language": "python",
   "name": "python3"
  },
  "language_info": {
   "codemirror_mode": {
    "name": "ipython",
    "version": 3
   },
   "file_extension": ".py",
   "mimetype": "text/x-python",
   "name": "python",
   "nbconvert_exporter": "python",
   "pygments_lexer": "ipython3",
   "version": "3.6.5"
  }
 },
 "nbformat": 4,
 "nbformat_minor": 2
}
