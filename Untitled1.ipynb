{
 "cells": [
  {
   "cell_type": "code",
   "execution_count": 183,
   "metadata": {},
   "outputs": [
    {
     "name": "stdout",
     "output_type": "stream",
     "text": [
      "10000\n",
      "10\n"
     ]
    },
    {
     "ename": "SystemExit",
     "evalue": "",
     "output_type": "error",
     "traceback": [
      "An exception has occurred, use %tb to see the full traceback.\n",
      "\u001b[0;31mSystemExit\u001b[0m\n"
     ]
    },
    {
     "name": "stderr",
     "output_type": "stream",
     "text": [
      "/usr/local/lib/python3.6/site-packages/IPython/core/interactiveshell.py:2971: UserWarning: To exit: use 'exit', 'quit', or Ctrl-D.\n",
      "  warn(\"To exit: use 'exit', 'quit', or Ctrl-D.\", stacklevel=1)\n"
     ]
    }
   ],
   "source": [
    "import sys\n",
    "\n",
    "N=int(input())\n",
    "non_zero=0\n",
    "\n",
    "for i in range (1,len(str(N))):\n",
    "    if str(N)[i]=='0':\n",
    "        non_zero+=1\n",
    "    \n",
    "if non_zero==len(str(N))-1:\n",
    "    if str(N)[0]=='1':\n",
    "        print(10)\n",
    "        sys.exit()\n",
    "    else:\n",
    "        print(int(str(N)[0]))\n",
    "        sys.exit()\n",
    "\n",
    "count=0\n",
    "for j in range(len(str(N))):\n",
    "    count+=int((str(N))[j])\n",
    "    \n",
    "print(count)"
   ]
  },
  {
   "cell_type": "code",
   "execution_count": 190,
   "metadata": {},
   "outputs": [
    {
     "data": {
      "text/plain": [
       "4.0070349388693215e-09"
      ]
     },
     "execution_count": 190,
     "metadata": {},
     "output_type": "execute_result"
    }
   ],
   "source": [
    "4/998244353"
   ]
  },
  {
   "cell_type": "code",
   "execution_count": 175,
   "metadata": {},
   "outputs": [],
   "source": [
    "non_zero=0\n",
    "\n",
    "for i in range (1,len(str(N))):\n",
    "    if str(N)[i]=='0':\n",
    "        non_zero+=1"
   ]
  },
  {
   "cell_type": "code",
   "execution_count": null,
   "metadata": {},
   "outputs": [],
   "source": [
    "1000001"
   ]
  },
  {
   "cell_type": "code",
   "execution_count": 178,
   "metadata": {},
   "outputs": [
    {
     "data": {
      "text/plain": [
       "True"
      ]
     },
     "execution_count": 178,
     "metadata": {},
     "output_type": "execute_result"
    }
   ],
   "source": [
    "non_zero="
   ]
  },
  {
   "cell_type": "code",
   "execution_count": 181,
   "metadata": {},
   "outputs": [
    {
     "data": {
      "text/plain": [
       "6"
      ]
     },
     "execution_count": 181,
     "metadata": {},
     "output_type": "execute_result"
    }
   ],
   "source": [
    "len(str(N))-1"
   ]
  },
  {
   "cell_type": "code",
   "execution_count": 115,
   "metadata": {},
   "outputs": [
    {
     "name": "stdout",
     "output_type": "stream",
     "text": [
      "9\n"
     ]
    }
   ],
   "source": [
    "non_zero=0\n",
    "\n",
    "for i in range (1,len(str(N))):\n",
    "    if str(N)[i]=='0':\n",
    "        non_zero+=1\n",
    "    \n",
    "if non_zero!=0:\n",
    "    if str(N)[0]=='1':\n",
    "        print(10)\n",
    "    else:\n",
    "        print(str(N)[0])"
   ]
  },
  {
   "cell_type": "code",
   "execution_count": 151,
   "metadata": {},
   "outputs": [
    {
     "data": {
      "text/plain": [
       "'1'"
      ]
     },
     "execution_count": 151,
     "metadata": {},
     "output_type": "execute_result"
    }
   ],
   "source": [
    "str(N)[0]"
   ]
  },
  {
   "cell_type": "code",
   "execution_count": 170,
   "metadata": {},
   "outputs": [
    {
     "name": "stdout",
     "output_type": "stream",
     "text": [
      "1234567\n"
     ]
    }
   ],
   "source": [
    "N=int(input())"
   ]
  },
  {
   "cell_type": "code",
   "execution_count": 171,
   "metadata": {},
   "outputs": [
    {
     "name": "stdout",
     "output_type": "stream",
     "text": [
      "2\n",
      "3\n",
      "4\n",
      "5\n",
      "6\n",
      "7\n"
     ]
    }
   ],
   "source": [
    "for i in range (1,len(str(N))):\n",
    "    print(str(N)[i])\n",
    "    if str(N)[i]=='0':\n",
    "        non_zero+=1"
   ]
  },
  {
   "cell_type": "code",
   "execution_count": 172,
   "metadata": {},
   "outputs": [
    {
     "data": {
      "text/plain": [
       "0"
      ]
     },
     "execution_count": 172,
     "metadata": {},
     "output_type": "execute_result"
    }
   ],
   "source": [
    "non_zero"
   ]
  },
  {
   "cell_type": "code",
   "execution_count": 89,
   "metadata": {},
   "outputs": [],
   "source": [
    "count=0\n",
    "for j in range(len(str(N))):\n",
    "    count+=int((str(N))[j])"
   ]
  },
  {
   "cell_type": "code",
   "execution_count": 147,
   "metadata": {},
   "outputs": [],
   "source": [
    "N=45"
   ]
  },
  {
   "cell_type": "code",
   "execution_count": 148,
   "metadata": {},
   "outputs": [
    {
     "name": "stdout",
     "output_type": "stream",
     "text": [
      "2\n",
      "43\n",
      "9\n",
      "--------------------\n",
      "3\n",
      "42\n",
      "9\n",
      "--------------------\n",
      "4\n",
      "41\n",
      "9\n",
      "--------------------\n",
      "5\n",
      "40\n",
      "9\n",
      "--------------------\n",
      "6\n",
      "39\n",
      "9\n",
      "--------------------\n",
      "7\n",
      "38\n",
      "9\n",
      "--------------------\n",
      "8\n",
      "37\n",
      "9\n",
      "--------------------\n",
      "9\n",
      "36\n",
      "9\n",
      "--------------------\n",
      "10\n",
      "35\n",
      "9\n",
      "--------------------\n",
      "11\n",
      "34\n",
      "9\n",
      "--------------------\n",
      "12\n",
      "33\n",
      "9\n",
      "--------------------\n",
      "13\n",
      "32\n",
      "9\n",
      "--------------------\n",
      "14\n",
      "31\n",
      "9\n",
      "--------------------\n",
      "15\n",
      "30\n",
      "9\n",
      "--------------------\n",
      "16\n",
      "29\n",
      "9\n",
      "--------------------\n",
      "17\n",
      "28\n",
      "9\n",
      "--------------------\n",
      "18\n",
      "27\n",
      "9\n",
      "--------------------\n",
      "19\n",
      "26\n",
      "9\n",
      "--------------------\n",
      "20\n",
      "25\n",
      "9\n",
      "--------------------\n",
      "21\n",
      "24\n",
      "9\n",
      "--------------------\n",
      "22\n",
      "23\n",
      "9\n",
      "--------------------\n",
      "23\n",
      "22\n",
      "9\n",
      "--------------------\n",
      "24\n",
      "21\n",
      "9\n",
      "--------------------\n",
      "25\n",
      "20\n",
      "9\n",
      "--------------------\n",
      "26\n",
      "19\n",
      "9\n",
      "--------------------\n",
      "27\n",
      "18\n",
      "9\n",
      "--------------------\n",
      "28\n",
      "17\n",
      "9\n",
      "--------------------\n",
      "29\n",
      "16\n",
      "9\n",
      "--------------------\n",
      "30\n",
      "15\n",
      "9\n",
      "--------------------\n",
      "31\n",
      "14\n",
      "9\n",
      "--------------------\n",
      "32\n",
      "13\n",
      "9\n",
      "--------------------\n",
      "33\n",
      "12\n",
      "9\n",
      "--------------------\n",
      "34\n",
      "11\n",
      "9\n",
      "--------------------\n",
      "35\n",
      "10\n",
      "9\n",
      "--------------------\n",
      "36\n",
      "9\n",
      "9\n",
      "--------------------\n",
      "37\n",
      "8\n",
      "9\n",
      "--------------------\n",
      "38\n",
      "7\n",
      "9\n",
      "--------------------\n",
      "39\n",
      "6\n",
      "9\n",
      "--------------------\n",
      "40\n",
      "5\n",
      "9\n",
      "--------------------\n",
      "41\n",
      "4\n",
      "9\n",
      "--------------------\n",
      "42\n",
      "3\n",
      "9\n",
      "--------------------\n",
      "43\n",
      "2\n",
      "9\n",
      "--------------------\n",
      "44\n",
      "1\n",
      "9\n",
      "--------------------\n",
      "45\n",
      "0\n",
      "9\n",
      "--------------------\n"
     ]
    }
   ],
   "source": [
    "import sys\n",
    "A=1\n",
    "B=N-1\n",
    "ans=10**10\n",
    "for i in range (N-1):\n",
    "    A_sum=0\n",
    "    B_sum=0\n",
    "    for j in range (len(list(str(A)))):\n",
    "        A_sum+=int(list(str(A))[j])\n",
    "    for k in range (len(list(str(B)))):\n",
    "        B_sum+=int(list(str(B))[k])\n",
    "    if A_sum+B_sum<ans:\n",
    "        ans=A_sum+B_sum\n",
    "    A+=1\n",
    "    B-=1\n",
    "    print(A)\n",
    "    print(B)\n",
    "    print(ans)\n",
    "    print('--------------------')\n",
    "            "
   ]
  },
  {
   "cell_type": "code",
   "execution_count": 149,
   "metadata": {},
   "outputs": [
    {
     "data": {
      "text/plain": [
       "9"
      ]
     },
     "execution_count": 149,
     "metadata": {},
     "output_type": "execute_result"
    }
   ],
   "source": [
    "ans"
   ]
  },
  {
   "cell_type": "code",
   "execution_count": 19,
   "metadata": {},
   "outputs": [
    {
     "ename": "TypeError",
     "evalue": "'int' object is not iterable",
     "output_type": "error",
     "traceback": [
      "\u001b[0;31m---------------------------------------------------------------------------\u001b[0m",
      "\u001b[0;31mTypeError\u001b[0m                                 Traceback (most recent call last)",
      "\u001b[0;32m<ipython-input-19-717906147afd>\u001b[0m in \u001b[0;36m<module>\u001b[0;34m()\u001b[0m\n\u001b[0;32m----> 1\u001b[0;31m \u001b[0mlist\u001b[0m\u001b[0;34m(\u001b[0m\u001b[0mB\u001b[0m\u001b[0;34m)\u001b[0m\u001b[0;34m\u001b[0m\u001b[0m\n\u001b[0m",
      "\u001b[0;31mTypeError\u001b[0m: 'int' object is not iterable"
     ]
    }
   ],
   "source": [
    "list(B)"
   ]
  },
  {
   "cell_type": "code",
   "execution_count": null,
   "metadata": {},
   "outputs": [],
   "source": []
  }
 ],
 "metadata": {
  "kernelspec": {
   "display_name": "Python 3",
   "language": "python",
   "name": "python3"
  },
  "language_info": {
   "codemirror_mode": {
    "name": "ipython",
    "version": 3
   },
   "file_extension": ".py",
   "mimetype": "text/x-python",
   "name": "python",
   "nbconvert_exporter": "python",
   "pygments_lexer": "ipython3",
   "version": "3.6.5"
  }
 },
 "nbformat": 4,
 "nbformat_minor": 2
}
