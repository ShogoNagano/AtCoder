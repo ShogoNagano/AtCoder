{
 "cells": [
  {
   "cell_type": "code",
   "execution_count": null,
   "metadata": {},
   "outputs": [],
   "source": [
    "N= int(input())\n",
    "M=0\n",
    "A=0\n",
    "R=0\n",
    "C=0\n",
    "H=0\n",
    "for i in range (N):\n",
    "    a=(input())\n",
    "    a_split=list(a)\n",
    "    if a_split[0]=='M':\n",
    "        M=M+1\n",
    "    elif a_split[0]=='A':\n",
    "        A=A+1\n",
    "    elif a_split[0]=='R':\n",
    "        R=R+1\n",
    "    elif a_split[0]=='C':\n",
    "        C=C+1\n",
    "    elif a_split[0]=='H':\n",
    "        H=H+1\n",
    "\n",
    "count=0\n",
    "#M\n",
    "count=count+M*A*R\n",
    "count=count+M*A*C\n",
    "count=count+M*A*H\n",
    "\n",
    "#A\n",
    "count=count+M*R*C\n",
    "count=count+M*R*H\n",
    "count=count+M*C*H\n",
    "\n",
    "count=count+A*R*C\n",
    "count=count+A*R*H\n",
    "count=count+A*C*H\n",
    "\n",
    "count=count+R*C*H\n",
    "\n",
    "print (count)\n"
   ]
  }
 ],
 "metadata": {
  "kernelspec": {
   "display_name": "Python 3",
   "language": "python",
   "name": "python3"
  },
  "language_info": {
   "codemirror_mode": {
    "name": "ipython",
    "version": 3
   },
   "file_extension": ".py",
   "mimetype": "text/x-python",
   "name": "python",
   "nbconvert_exporter": "python",
   "pygments_lexer": "ipython3",
   "version": "3.6.5"
  }
 },
 "nbformat": 4,
 "nbformat_minor": 2
}
