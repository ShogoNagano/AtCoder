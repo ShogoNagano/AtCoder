{
 "cells": [
  {
   "cell_type": "code",
   "execution_count": 1,
   "metadata": {},
   "outputs": [],
   "source": [
    "#愚直でいける？\n",
    "#上かしたかが確定したらcountする系"
   ]
  },
  {
   "cell_type": "code",
   "execution_count": 19,
   "metadata": {},
   "outputs": [
    {
     "name": "stdout",
     "output_type": "stream",
     "text": [
      "7\n",
      "1 2 3 2 1 999999999 1000000000\n"
     ]
    }
   ],
   "source": [
    "N=int(input())\n",
    "A=list((input().split()))"
   ]
  },
  {
   "cell_type": "code",
   "execution_count": 20,
   "metadata": {},
   "outputs": [
    {
     "name": "stdout",
     "output_type": "stream",
     "text": [
      "3\n"
     ]
    }
   ],
   "source": [
    "direction=0 #方向、上が1,下が-1\n",
    "number=int(A[0])#初期値\n",
    "count=0\n",
    "\n",
    "for i in range (1, N):\n",
    "    if direction==0:\n",
    "        if int(A[i])>number:\n",
    "            direction=1\n",
    "        elif  int(A[i])<number:\n",
    "            direction=-1\n",
    "        else:\n",
    "            direction=0\n",
    "    elif direction==1:\n",
    "        if int(A[i])<number:\n",
    "            direction=0\n",
    "            count+=1\n",
    "    elif direction==-1:\n",
    "        if int(A[i])>number:\n",
    "            direction=0\n",
    "            count+=1\n",
    "    number=int(A[i])\n",
    "\n",
    "count+=1\n",
    "print(count)"
   ]
  },
  {
   "cell_type": "code",
   "execution_count": 15,
   "metadata": {},
   "outputs": [
    {
     "data": {
      "text/plain": [
       "1"
      ]
     },
     "execution_count": 15,
     "metadata": {},
     "output_type": "execute_result"
    }
   ],
   "source": [
    "#愚直でとくだけ"
   ]
  },
  {
   "cell_type": "code",
   "execution_count": null,
   "metadata": {},
   "outputs": [],
   "source": []
  }
 ],
 "metadata": {
  "kernelspec": {
   "display_name": "Python 3",
   "language": "python",
   "name": "python3"
  },
  "language_info": {
   "codemirror_mode": {
    "name": "ipython",
    "version": 3
   },
   "file_extension": ".py",
   "mimetype": "text/x-python",
   "name": "python",
   "nbconvert_exporter": "python",
   "pygments_lexer": "ipython3",
   "version": "3.6.5"
  }
 },
 "nbformat": 4,
 "nbformat_minor": 2
}
