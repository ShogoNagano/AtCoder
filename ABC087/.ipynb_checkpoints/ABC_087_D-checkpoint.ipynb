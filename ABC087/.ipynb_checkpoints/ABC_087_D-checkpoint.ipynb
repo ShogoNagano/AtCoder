{
 "cells": [
  {
   "cell_type": "code",
   "execution_count": 45,
   "metadata": {},
   "outputs": [
    {
     "name": "stdout",
     "output_type": "stream",
     "text": [
      "1\n",
      "2\n",
      "3\n"
     ]
    }
   ],
   "source": [
    "N=int(input())\n",
    "A1=list(map(int, input().split()))\n",
    "A2=list(map(int, input().split()))"
   ]
  },
  {
   "cell_type": "code",
   "execution_count": 46,
   "metadata": {},
   "outputs": [
    {
     "name": "stdout",
     "output_type": "stream",
     "text": [
      "5\n"
     ]
    }
   ],
   "source": [
    "max_candy=0\n",
    "for i in range (N):\n",
    "    output=sum(A1[0:i+1])+sum(A2[i:N])\n",
    "    if output>=max_candy:\n",
    "        max_candy=output\n",
    "\n",
    "print(max_candy)"
   ]
  },
  {
   "cell_type": "markdown",
   "metadata": {},
   "source": [
    "方針  \n",
    "特に難しいことはない。  \n",
    "標準入力の方法だけ練習(リスト型の入力に慣れていない)"
   ]
  },
  {
   "cell_type": "code",
   "execution_count": null,
   "metadata": {},
   "outputs": [],
   "source": []
  }
 ],
 "metadata": {
  "kernelspec": {
   "display_name": "Python 3",
   "language": "python",
   "name": "python3"
  },
  "language_info": {
   "codemirror_mode": {
    "name": "ipython",
    "version": 3
   },
   "file_extension": ".py",
   "mimetype": "text/x-python",
   "name": "python",
   "nbconvert_exporter": "python",
   "pygments_lexer": "ipython3",
   "version": "3.6.5"
  }
 },
 "nbformat": 4,
 "nbformat_minor": 2
}
