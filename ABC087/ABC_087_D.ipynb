{
 "cells": [
  {
   "cell_type": "code",
   "execution_count": 3,
   "metadata": {},
   "outputs": [
    {
     "name": "stdout",
     "output_type": "stream",
     "text": [
      "3 3\n",
      "1 2 1\n",
      "2 3 1\n",
      "1 3 2\n"
     ]
    }
   ],
   "source": [
    "N, M=map(int, input().split())\n",
    "A1=list(map(int, input().split()))\n",
    "A2=list(map(int, input().split()))\n",
    "A3=list(map(int, input().split()))"
   ]
  },
  {
   "cell_type": "code",
   "execution_count": 13,
   "metadata": {},
   "outputs": [],
   "source": [
    "B=[0]*1000000000"
   ]
  },
  {
   "cell_type": "code",
   "execution_count": 19,
   "metadata": {},
   "outputs": [],
   "source": [
    "B[0]=1\n",
    "B[0+1]=2"
   ]
  },
  {
   "cell_type": "markdown",
   "metadata": {},
   "source": [
    "方針  \n",
    "特に難しいことはない。  \n",
    "標準入力の方法だけ練習(リスト型の入力に慣れていない)"
   ]
  },
  {
   "cell_type": "markdown",
   "metadata": {},
   "source": [
    "×リストに格納するパターンを考える→遅すぎる  \n",
    "グラフつくる問題（初出）  "
   ]
  },
  {
   "cell_type": "markdown",
   "metadata": {},
   "source": [
    "12章(螺旋本)  \n",
    "グラフ  \n",
    "4種類存在する  \n",
    "無向グラフ  \n",
    "有向グラフ  \n",
    "重み付き無向グラフ\n",
    "重み付き有向グラフ(今回はこれ)  \n",
    "頂点の集合がV,辺の集合がEであるグラフをG=(V,E)と表記する。\n",
    "頂点の数と辺の数は|V|,|E|.\n",
    "重み付きグラフの辺(u,v)の重みをw(u,v)とする.\n",
    "途中"
   ]
  },
  {
   "cell_type": "code",
   "execution_count": null,
   "metadata": {},
   "outputs": [],
   "source": []
  }
 ],
 "metadata": {
  "kernelspec": {
   "display_name": "Python 3",
   "language": "python",
   "name": "python3"
  },
  "language_info": {
   "codemirror_mode": {
    "name": "ipython",
    "version": 3
   },
   "file_extension": ".py",
   "mimetype": "text/x-python",
   "name": "python",
   "nbconvert_exporter": "python",
   "pygments_lexer": "ipython3",
   "version": "3.6.5"
  }
 },
 "nbformat": 4,
 "nbformat_minor": 2
}
