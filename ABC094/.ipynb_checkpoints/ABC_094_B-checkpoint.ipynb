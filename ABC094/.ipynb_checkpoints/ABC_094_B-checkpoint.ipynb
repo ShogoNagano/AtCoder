{
 "cells": [
  {
   "cell_type": "code",
   "execution_count": null,
   "metadata": {},
   "outputs": [],
   "source": [
    "N, M, X = map(int, input().split())\n",
    "A=list(map(int, input().split()))\n",
    "\n",
    "N_more_count =0\n",
    "N_less_count =0\n",
    "\n",
    "for i in range (M):\n",
    "    AM = int(A[i])\n",
    "    if AM>X:\n",
    "        N_more_count=N_more_count+1\n",
    "    if AM<X:\n",
    "        N_less_count=N_less_count+1\n",
    "print(min(N_less_count,N_more_count))\n"
   ]
  }
 ],
 "metadata": {
  "kernelspec": {
   "display_name": "Python 3",
   "language": "python",
   "name": "python3"
  },
  "language_info": {
   "codemirror_mode": {
    "name": "ipython",
    "version": 3
   },
   "file_extension": ".py",
   "mimetype": "text/x-python",
   "name": "python",
   "nbconvert_exporter": "python",
   "pygments_lexer": "ipython3",
   "version": "3.6.5"
  }
 },
 "nbformat": 4,
 "nbformat_minor": 2
}
