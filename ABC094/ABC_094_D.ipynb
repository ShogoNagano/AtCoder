{
 "cells": [
  {
   "cell_type": "code",
   "execution_count": null,
   "metadata": {},
   "outputs": [],
   "source": [
    "n=int(input())\n",
    "A=[int(i) for i in input().split()]\n",
    "n_output=max(A)\n",
    "mean=n_output/2\n",
    "r=10000000000\n",
    "r_output=10000000000\n",
    "for i in range (n):\n",
    "    if abs(A[i]-mean)<=r:\n",
    "        r=abs(A[i]-mean)\n",
    "        r_output=A[i]\n",
    "list=[]\n",
    "list.append(n_output)\n",
    "list.append(r_output)\n",
    "list.sort()\n",
    "list.reverse()\n",
    "print(list[0],list[1])\n"
   ]
  }
 ],
 "metadata": {
  "kernelspec": {
   "display_name": "Python 3",
   "language": "python",
   "name": "python3"
  },
  "language_info": {
   "codemirror_mode": {
    "name": "ipython",
    "version": 3
   },
   "file_extension": ".py",
   "mimetype": "text/x-python",
   "name": "python",
   "nbconvert_exporter": "python",
   "pygments_lexer": "ipython3",
   "version": "3.6.5"
  }
 },
 "nbformat": 4,
 "nbformat_minor": 2
}
