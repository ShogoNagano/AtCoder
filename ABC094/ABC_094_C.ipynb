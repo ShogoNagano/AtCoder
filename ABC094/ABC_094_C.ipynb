{
 "cells": [
  {
   "cell_type": "code",
   "execution_count": null,
   "metadata": {},
   "outputs": [],
   "source": [
    "N=int(input())\n",
    "X=list(map(int, input().split()))\n",
    " \n",
    "import copy\n",
    "X_sort=copy.deepcopy(X)\n",
    "X_sort.sort()\n",
    "X_sort\n",
    " \n",
    "median_control=(X_sort[N//2-1]+X_sort[N//2])/2\n",
    "for i in range (N):\n",
    "    if X[i]>median_control:\n",
    "        print (X_sort[N//2-1])\n",
    "    if X[i]<=median_control:\n",
    "        print (X_sort[N//2])\n",
    " \n"
   ]
  }
 ],
 "metadata": {
  "kernelspec": {
   "display_name": "Python 3",
   "language": "python",
   "name": "python3"
  },
  "language_info": {
   "codemirror_mode": {
    "name": "ipython",
    "version": 3
   },
   "file_extension": ".py",
   "mimetype": "text/x-python",
   "name": "python",
   "nbconvert_exporter": "python",
   "pygments_lexer": "ipython3",
   "version": "3.6.5"
  }
 },
 "nbformat": 4,
 "nbformat_minor": 2
}
