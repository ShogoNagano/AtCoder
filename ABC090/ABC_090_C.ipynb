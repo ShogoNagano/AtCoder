{
 "cells": [
  {
   "cell_type": "code",
   "execution_count": null,
   "metadata": {},
   "outputs": [],
   "source": [
    "N, M = map(int, input().split())\n",
    " \n",
    "small=min(N,M)\n",
    "big  =max(N,M)\n",
    "if small==1:\n",
    "    if big==1:\n",
    "        print (1)\n",
    "    elif big==2:\n",
    "        print (0)\n",
    "    else:\n",
    "        print (big-2)\n",
    " \n",
    "elif small==2:\n",
    "    print (0)\n",
    "    \n",
    "else:\n",
    "    print ((small-2)*(big-2))\n"
   ]
  }
 ],
 "metadata": {
  "kernelspec": {
   "display_name": "Python 3",
   "language": "python",
   "name": "python3"
  },
  "language_info": {
   "codemirror_mode": {
    "name": "ipython",
    "version": 3
   },
   "file_extension": ".py",
   "mimetype": "text/x-python",
   "name": "python",
   "nbconvert_exporter": "python",
   "pygments_lexer": "ipython3",
   "version": "3.6.5"
  }
 },
 "nbformat": 4,
 "nbformat_minor": 2
}
