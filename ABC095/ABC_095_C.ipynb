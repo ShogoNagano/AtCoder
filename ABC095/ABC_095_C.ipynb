{
 "cells": [
  {
   "cell_type": "markdown",
   "metadata": {},
   "source": [
    "方針  \n",
    "Cのピザは偶数単位でないと意味がない。\n",
    "例題１では\n",
    "Aピザ１枚、Bピザ１枚をABで作成するのに3200円\n",
    "別々に購入すると3500円必要  \n",
    "ABでいけるところまで埋めて残りをAで調整。  \n",
    "\n",
    "例題2では\n",
    "ABでは3800円\n",
    "別々では3500円なのでABは無視して購入する  \n",
    "\n",
    "例題3では  \n",
    "ABは1000円\n",
    "別々は3500円なので  \n",
    "ABでいけるところまで。\n",
    "\n",
    "課題\n",
    "○ABは品数が超えてもOK。  \n",
    " →この条件が複雑  \n",
    " 1. A、Bの単体よりも低い→構わずに買う\n",
    " 2  Aの単体よりも低いがBの単体よりは高い\n",
    " 　 Aの単体の場合は連打、Bの単体の場合は普通に買う。\n",
    " 3. 2の反対バージョンが必要。\n",
    " ※ 2,3のパターンは必要なかった。→やっぱり必要\n",
    "○N^5なのでfor文は一回のみ回す。 \n",
    "\n",
    "問題文を複雑"
   ]
  },
  {
   "cell_type": "code",
   "execution_count": 74,
   "metadata": {},
   "outputs": [
    {
     "name": "stdout",
     "output_type": "stream",
     "text": [
      "100 200 100 10 20\n"
     ]
    }
   ],
   "source": [
    "A,B,C,X,Y=map(int,input().split())"
   ]
  },
  {
   "cell_type": "code",
   "execution_count": 81,
   "metadata": {},
   "outputs": [
    {
     "name": "stdout",
     "output_type": "stream",
     "text": [
      "4000\n",
      "4000\n"
     ]
    }
   ],
   "source": [
    "total_price=0\n",
    "C2=C*2\n",
    "\n",
    "if C2<=A and C2<=B:\n",
    "    total_price=C2*max(X,Y)\n",
    "        \n",
    "elif (C2>=A and C2<=B):\n",
    "    total_price=C2*min(X,Y)\n",
    "    total_price=total_price+B*(Y-X)      \n",
    "    print(total_price)\n",
    "    \n",
    "elif (C2<=A and C2>=B) :\n",
    "    total_price=C2*min(X,Y)\n",
    "    total_price=total_price+A*(X-Y)      \n",
    "    print(total_price)\n",
    "\n",
    "elif C2<=(A+B):  #C2<=(A+B): \n",
    "    if X>=Y:\n",
    "        total_price=C2*Y\n",
    "        X=X-Y\n",
    "        Y=0\n",
    "        total_price=total_price+A*X\n",
    "    else:\n",
    "        total_price=C2*X\n",
    "        X=0\n",
    "        Y=Y-X\n",
    "        total_price=total_price+B*Y\n",
    "        \n",
    "else:\n",
    "    total_price=A*X+B*Y\n",
    "print(total_price)\n"
   ]
  },
  {
   "cell_type": "code",
   "execution_count": 79,
   "metadata": {},
   "outputs": [],
   "source": [
    "if C2<=A and C2>=B:\n",
    "    print (\"hello\")"
   ]
  },
  {
   "cell_type": "code",
   "execution_count": 80,
   "metadata": {},
   "outputs": [
    {
     "data": {
      "text/plain": [
       "200"
      ]
     },
     "execution_count": 80,
     "metadata": {},
     "output_type": "execute_result"
    }
   ],
   "source": [
    "C2"
   ]
  },
  {
   "cell_type": "code",
   "execution_count": 45,
   "metadata": {},
   "outputs": [
    {
     "data": {
      "text/plain": [
       "500"
      ]
     },
     "execution_count": 45,
     "metadata": {},
     "output_type": "execute_result"
    }
   ],
   "source": [
    "5*100"
   ]
  },
  {
   "cell_type": "code",
   "execution_count": null,
   "metadata": {},
   "outputs": [],
   "source": []
  }
 ],
 "metadata": {
  "kernelspec": {
   "display_name": "Python 3",
   "language": "python",
   "name": "python3"
  },
  "language_info": {
   "codemirror_mode": {
    "name": "ipython",
    "version": 3
   },
   "file_extension": ".py",
   "mimetype": "text/x-python",
   "name": "python",
   "nbconvert_exporter": "python",
   "pygments_lexer": "ipython3",
   "version": "3.6.5"
  }
 },
 "nbformat": 4,
 "nbformat_minor": 2
}
