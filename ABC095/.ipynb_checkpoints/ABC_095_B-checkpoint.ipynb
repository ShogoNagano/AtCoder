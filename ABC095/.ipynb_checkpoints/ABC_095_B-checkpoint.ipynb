{
 "cells": [
  {
   "cell_type": "code",
   "execution_count": 15,
   "metadata": {},
   "outputs": [
    {
     "name": "stdout",
     "output_type": "stream",
     "text": [
      "5 3000\n",
      "150\n",
      "130\n",
      "150\n",
      "130\n",
      "110\n",
      "26\n"
     ]
    }
   ],
   "source": [
    "N, M = map(int, input().split())\n",
    "total_count=0\n",
    "minimum_donut=1000\n",
    "for i in range (N):\n",
    "    total_count+=1\n",
    "    m=int(input())\n",
    "    M=M-m\n",
    "    if minimum_donut>=m:\n",
    "        minimum_donut=m\n",
    "\n",
    "while M>=0:\n",
    "    M=M-minimum_donut\n",
    "    total_count+=1\n",
    "\n",
    "\n",
    "#total補正\n",
    "total_count=total_count-1\n",
    "print(total_count)"
   ]
  },
  {
   "cell_type": "markdown",
   "metadata": {},
   "source": [
    "簡単な問題  \n",
    "単純に全部一回ずつ引いてから最小のものを条件の満たす限りループ。  \n",
    "注意点は、N^5なのでループは一回のみ"
   ]
  },
  {
   "cell_type": "code",
   "execution_count": null,
   "metadata": {},
   "outputs": [],
   "source": []
  }
 ],
 "metadata": {
  "kernelspec": {
   "display_name": "Python 3",
   "language": "python",
   "name": "python3"
  },
  "language_info": {
   "codemirror_mode": {
    "name": "ipython",
    "version": 3
   },
   "file_extension": ".py",
   "mimetype": "text/x-python",
   "name": "python",
   "nbconvert_exporter": "python",
   "pygments_lexer": "ipython3",
   "version": "3.6.5"
  }
 },
 "nbformat": 4,
 "nbformat_minor": 2
}
