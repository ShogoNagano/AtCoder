{
 "cells": [
  {
   "cell_type": "code",
   "execution_count": 1,
   "metadata": {},
   "outputs": [],
   "source": [
    "#方針\n",
    "#辞書型にする\n",
    "#辞書に対して毎回n-1,n,n+1をひとつ追加していく"
   ]
  },
  {
   "cell_type": "code",
   "execution_count": 15,
   "metadata": {},
   "outputs": [
    {
     "name": "stdout",
     "output_type": "stream",
     "text": [
      "7\n"
     ]
    }
   ],
   "source": [
    "N=int(input())"
   ]
  },
  {
   "cell_type": "code",
   "execution_count": 16,
   "metadata": {},
   "outputs": [
    {
     "name": "stdout",
     "output_type": "stream",
     "text": [
      "3 1 1 1 1 1 2\n"
     ]
    }
   ],
   "source": [
    "a=list(input().split())"
   ]
  },
  {
   "cell_type": "code",
   "execution_count": 89,
   "metadata": {},
   "outputs": [],
   "source": [
    "mydict={}\n",
    "for i in range (len(a)):\n",
    "    num=int(a[i])\n",
    "    if str(str(num-1) in mydict)==str(False):\n",
    "        mydict[str(num-1)]=1\n",
    "    else:\n",
    "        mydict[str(num-1)]+=1\n",
    "    if str(str(num) in mydict)==str(False):\n",
    "        mydict[str(num)]=1\n",
    "    else:\n",
    "        mydict[str(num)]+=1\n",
    "    if str(str(num+1) in mydict)==str(False):\n",
    "        mydict[str(num+1)]=1\n",
    "    else:\n",
    "        mydict[str(num+1)]+=1"
   ]
  },
  {
   "cell_type": "code",
   "execution_count": 88,
   "metadata": {},
   "outputs": [
    {
     "name": "stdout",
     "output_type": "stream",
     "text": [
      "7\n"
     ]
    }
   ],
   "source": [
    "print(max(mydict.values()))"
   ]
  }
 ],
 "metadata": {
  "kernelspec": {
   "display_name": "Python 3",
   "language": "python",
   "name": "python3"
  },
  "language_info": {
   "codemirror_mode": {
    "name": "ipython",
    "version": 3
   },
   "file_extension": ".py",
   "mimetype": "text/x-python",
   "name": "python",
   "nbconvert_exporter": "python",
   "pygments_lexer": "ipython3",
   "version": "3.6.5"
  }
 },
 "nbformat": 4,
 "nbformat_minor": 2
}
