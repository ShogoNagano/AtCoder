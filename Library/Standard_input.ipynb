{
 "cells": [
  {
   "cell_type": "markdown",
   "metadata": {},
   "source": [
    "標準入力のパターンを網羅したノートを目指す。<br>\n",
    "以下のURL（AtCoder10選Python版）から取得したコード＋過去問で気になったものリスト<br>\n",
    "http://delta114514.hatenablog.jp/entry/2018/03/15/014555"
   ]
  },
  {
   "cell_type": "markdown",
   "metadata": {},
   "source": [
    "入力\n",
    "入力は以下の形式で与えられる。\n",
    "\n",
    "a\n",
    "b c\n",
    "s\n",
    "1 行目は、整数 a (1≦a≦1,000) が与えられる。\n",
    "2 行目は、整数 b,c (1≦b,c≦1,000) が与えられる。\n",
    "3 行目は、文字列 s が与えられる。この文字列の長さは 1 文字以上 100 文字以下である。"
   ]
  },
  {
   "cell_type": "code",
   "execution_count": 1,
   "metadata": {},
   "outputs": [
    {
     "name": "stdout",
     "output_type": "stream",
     "text": [
      "1\n",
      "2 3\n"
     ]
    }
   ],
   "source": [
    "a = int(input())\n",
    "b, c = map(int, input().split())"
   ]
  },
  {
   "cell_type": "markdown",
   "metadata": {},
   "source": [
    "入力 \n",
    "入力は以下の形式で標準入力から与えられる。\n",
    "\n",
    "a b"
   ]
  },
  {
   "cell_type": "code",
   "execution_count": 2,
   "metadata": {},
   "outputs": [
    {
     "name": "stdout",
     "output_type": "stream",
     "text": [
      "1 2\n"
     ]
    }
   ],
   "source": [
    "a, b = map(int, input().split())"
   ]
  },
  {
   "cell_type": "markdown",
   "metadata": {},
   "source": [
    "問題文 \n",
    "すぬけ君は 1,2,3 の番号がついた 3 つのマスからなるマス目を持っています。 各マスには 0 か 1 が書かれており、マス i には si が書かれています。\n",
    "\n",
    "すぬけ君は 1 が書かれたマスにビー玉を置きます。 ビー玉が置かれるマスがいくつあるか求めてください。\n",
    "\n",
    "制約 \n",
    "s1,s2,s3 は 1 あるいは 0\n",
    "入力 \n",
    "入力は以下の形式で標準入力から与えられる。\n",
    "\n",
    "s1s2s3\n",
    "出力 \n",
    "答えを出力せよ。"
   ]
  },
  {
   "cell_type": "code",
   "execution_count": 3,
   "metadata": {},
   "outputs": [
    {
     "name": "stdout",
     "output_type": "stream",
     "text": [
      "101\n",
      "2\n"
     ]
    }
   ],
   "source": [
    "print(input().count(\"1\"))"
   ]
  },
  {
   "cell_type": "markdown",
   "metadata": {},
   "source": [
    "制約 \n",
    "1≤N≤200\n",
    "1≤Ai≤109\n",
    "入力 \n",
    "入力は以下の形式で標準入力から与えられる。\n",
    "\n",
    "N\n",
    "A1 A2 ... AN"
   ]
  },
  {
   "cell_type": "code",
   "execution_count": 4,
   "metadata": {},
   "outputs": [
    {
     "name": "stdout",
     "output_type": "stream",
     "text": [
      "2\n",
      "1 2 3\n"
     ]
    }
   ],
   "source": [
    "n = input()\n",
    "a = list(map(int, input().split()))"
   ]
  },
  {
   "cell_type": "markdown",
   "metadata": {},
   "source": [
    "入力 \n",
    "入力は以下の形式で標準入力から与えられる。\n",
    "\n",
    "A  \n",
    "B  \n",
    "C  \n",
    "X"
   ]
  },
  {
   "cell_type": "code",
   "execution_count": 7,
   "metadata": {},
   "outputs": [
    {
     "name": "stdout",
     "output_type": "stream",
     "text": [
      "1\n",
      "2\n",
      "3\n",
      "4\n"
     ]
    }
   ],
   "source": [
    "a, b, c, x = map(int, [input() for i in range(4)])"
   ]
  },
  {
   "cell_type": "markdown",
   "metadata": {},
   "source": [
    "問題文 \n",
    "N 枚のカードがあります. i 枚目のカードには, ai という数が書かれています.\n",
    "Alice と Bob は, これらのカードを使ってゲームを行います. ゲームでは, Alice と Bob が交互に 1 枚ずつカードを取っていきます. Alice が先にカードを取ります.\n",
    "2 人がすべてのカードを取ったときゲームは終了し, 取ったカードの数の合計がその人の得点になります. 2 人とも自分の得点を最大化するように最適な戦略を取った時, Alice は Bob より何点多く取るか求めてください.\n",
    "\n",
    "制約 \n",
    "N は 1 以上 100 以下の整数\n",
    "ai (1≤i≤N) は 1 以上 100 以下の整数\n",
    "入力 \n",
    "入力は以下の形式で標準入力から与えられる.\n",
    "\n",
    "N\n",
    "a1 a2 a3 … aN\n",
    "出力 \n",
    "両者が最適な戦略を取った時, Alice は Bob より何点多く取るかを出力してください."
   ]
  },
  {
   "cell_type": "code",
   "execution_count": 8,
   "metadata": {},
   "outputs": [
    {
     "name": "stdout",
     "output_type": "stream",
     "text": [
      "1\n",
      "1111\n",
      "1111\n"
     ]
    }
   ],
   "source": [
    "n = int(input())\n",
    "a = sorted(list(map(int, input().split())), reverse=True)\n",
    "print(sum(a[::2]) - sum(a[1::2]))"
   ]
  },
  {
   "cell_type": "markdown",
   "metadata": {},
   "source": [
    "問題文 \n",
    "X 段重ねの鏡餅 (X≥1) とは、X 枚の円形の餅を縦に積み重ねたものであって、どの餅もその真下の餅より直径が小さい（一番下の餅を除く）もののことです。例えば、直径 10、8、6 センチメートルの餅をこの順に下から積み重ねると 3 段重ねの鏡餅になり、餅を一枚だけ置くと 1 段重ねの鏡餅になります。\n",
    "\n",
    "ダックスフンドのルンルンは N 枚の円形の餅を持っていて、そのうち i 枚目の餅の直径は di センチメートルです。これらの餅のうち一部または全部を使って鏡餅を作るとき、最大で何段重ねの鏡餅を作ることができるでしょうか。\n",
    "\n",
    "制約 \n",
    "1≤N≤100\n",
    "1≤di≤100\n",
    "入力値はすべて整数である。\n",
    "入力 \n",
    "入力は以下の形式で標準入力から与えられる。\n",
    "\n",
    "N\n",
    "d1\n",
    ":\n",
    "dN\n",
    "出力 \n",
    "作ることのできる鏡餅の最大の段数を出力せよ。"
   ]
  },
  {
   "cell_type": "code",
   "execution_count": 9,
   "metadata": {},
   "outputs": [
    {
     "name": "stdout",
     "output_type": "stream",
     "text": [
      "1\n",
      "1\n",
      "1\n"
     ]
    }
   ],
   "source": [
    "n = int(input())\n",
    "print(len(set(map(int, [input() for i in range(n)]))))"
   ]
  },
  {
   "cell_type": "markdown",
   "metadata": {},
   "source": [
    "問題文 \n",
    "英小文字からなる文字列 S が与えられます。 Tが空文字列である状態から始め、以下の操作を好きな回数繰り返すことで S=T とすることができるか判定してください。\n",
    "\n",
    "T の末尾に dream dreamer erase eraser のいずれかを追加する。\n",
    "制約 \n",
    "1≦|S|≦105\n",
    "S は英小文字からなる。\n",
    "入力 \n",
    "入力は以下の形式で標準入力から与えられる。\n",
    "\n",
    "S\n",
    "出力 \n",
    "S=T とすることができる場合 YES を、そうでない場合 NO を出力せよ。"
   ]
  },
  {
   "cell_type": "code",
   "execution_count": 10,
   "metadata": {},
   "outputs": [
    {
     "name": "stdout",
     "output_type": "stream",
     "text": [
      "eraser\n",
      "YES\n"
     ]
    }
   ],
   "source": [
    "s=input().replace(\"eraser\",\"\").replace(\"erase\",\"\").replace(\"dreamer\",\"\").replace(\"dream\",\"\")\n",
    "if s:\n",
    "    print(\"NO\")\n",
    "else:\n",
    "    print(\"YES\")"
   ]
  },
  {
   "cell_type": "markdown",
   "metadata": {},
   "source": [
    "問題文 \n",
    "シカのAtCoDeerくんは二次元平面上で旅行をしようとしています。 AtCoDeerくんの旅行プランでは、時刻 0 に 点 (0,0) を出発し、 1 以上 N 以下の各 i に対し、時刻 ti に 点 (xi,yi) を訪れる予定です。\n",
    "\n",
    "AtCoDeerくんが時刻 t に 点 (x,y) にいる時、 時刻 t+1 には 点 (x+1,y), (x−1,y), (x,y+1), (x,y−1) のうちいずれかに存在することができます。 その場にとどまることは出来ないことに注意してください。 AtCoDeerくんの旅行プランが実行可能かどうか判定してください。\n",
    "\n",
    "制約 \n",
    "1 ≤ N ≤ 105\n",
    "0 ≤ xi ≤ 105\n",
    "0 ≤ yi ≤ 105\n",
    "1 ≤ ti ≤ 105\n",
    "ti < ti+1 (1 ≤ i ≤ N−1)\n",
    "入力は全て整数\n",
    "入力 \n",
    "入力は以下の形式で標準入力から与えられる。\n",
    "\n",
    "N\n",
    "t1 x1 y1\n",
    "t2 x2 y2\n",
    ":\n",
    "tN xN yN\n",
    "出力 \n",
    "旅行プランが実行可能ならYesを、不可能ならNoを出力してください。"
   ]
  },
  {
   "cell_type": "code",
   "execution_count": 12,
   "metadata": {},
   "outputs": [
    {
     "name": "stdout",
     "output_type": "stream",
     "text": [
      "1\n",
      "1 2 3\n",
      "Yes\n"
     ]
    }
   ],
   "source": [
    "n = int(input())\n",
    "for i in range(n):\n",
    "    t, x, y = map(int, input().split())\n",
    "    if x + y < t or (x + y + t) % 2:\n",
    "        print(\"No\")\n",
    "        exit()\n",
    "print(\"Yes\")"
   ]
  },
  {
   "cell_type": "code",
   "execution_count": null,
   "metadata": {},
   "outputs": [],
   "source": []
  }
 ],
 "metadata": {
  "kernelspec": {
   "display_name": "Python 3",
   "language": "python",
   "name": "python3"
  },
  "language_info": {
   "codemirror_mode": {
    "name": "ipython",
    "version": 3
   },
   "file_extension": ".py",
   "mimetype": "text/x-python",
   "name": "python",
   "nbconvert_exporter": "python",
   "pygments_lexer": "ipython3",
   "version": "3.6.5"
  }
 },
 "nbformat": 4,
 "nbformat_minor": 2
}
