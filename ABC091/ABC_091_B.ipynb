{
 "cells": [
  {
   "cell_type": "code",
   "execution_count": null,
   "metadata": {},
   "outputs": [],
   "source": [
    "N = int(input())\n",
    "\n",
    "blue_list=list()\n",
    "for i in range (N):\n",
    "    N_ = str(input())\n",
    "    blue_list.append(N_)\n",
    "\n",
    "M = int(input())\n",
    "red_list=list()\n",
    "for i in range (M):\n",
    "    M_ = str(input())\n",
    "    red_list.append(M_) \n",
    "\n",
    "output_final=0\n",
    "for i in range (0,N):\n",
    "    objective=blue_list[i]\n",
    "    plus=blue_list.count(objective)\n",
    "    minus=red_list.count(objective)\n",
    "    output=plus-minus\n",
    "    if output>=output_final:\n",
    "        output_final=output\n",
    "print (output_final)\n",
    "  \n"
   ]
  }
 ],
 "metadata": {
  "kernelspec": {
   "display_name": "Python 3",
   "language": "python",
   "name": "python3"
  },
  "language_info": {
   "codemirror_mode": {
    "name": "ipython",
    "version": 3
   },
   "file_extension": ".py",
   "mimetype": "text/x-python",
   "name": "python",
   "nbconvert_exporter": "python",
   "pygments_lexer": "ipython3",
   "version": "3.6.5"
  }
 },
 "nbformat": 4,
 "nbformat_minor": 2
}
