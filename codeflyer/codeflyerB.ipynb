{
 "cells": [
  {
   "cell_type": "code",
   "execution_count": null,
   "metadata": {},
   "outputs": [],
   "source": [
    "A,B,C=map(int,input().split())\n",
    "X=list(input())\n",
    "for i in range (len(X)):\n",
    "    if X[i]==\"S\":\n",
    "        A-=1\n",
    "    if X[i]==\"C\":\n",
    "        B-=1\n",
    "    if X[i]==\"E\":\n",
    "        if A>=B:\n",
    "            A-=1\n",
    "        elif A<B:\n",
    "            B-=1\n",
    "if A<0:\n",
    "    A=0\n",
    "if B<0:\n",
    "    B=0\n",
    "print(A)\n",
    "print(B)\n",
    "#とくだけ"
   ]
  }
 ],
 "metadata": {
  "kernelspec": {
   "display_name": "Python 3",
   "language": "python",
   "name": "python3"
  },
  "language_info": {
   "codemirror_mode": {
    "name": "ipython",
    "version": 3
   },
   "file_extension": ".py",
   "mimetype": "text/x-python",
   "name": "python",
   "nbconvert_exporter": "python",
   "pygments_lexer": "ipython3",
   "version": "3.6.5"
  }
 },
 "nbformat": 4,
 "nbformat_minor": 2
}
