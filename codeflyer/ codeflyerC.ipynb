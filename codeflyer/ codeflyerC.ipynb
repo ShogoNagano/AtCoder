{
 "cells": [
  {
   "cell_type": "markdown",
   "metadata": {},
   "source": [
    "#累積和を使うところまではわかる"
   ]
  },
  {
   "cell_type": "code",
   "execution_count": 2,
   "metadata": {},
   "outputs": [
    {
     "name": "stdout",
     "output_type": "stream",
     "text": [
      "5 7\n",
      "11 13 17 19 23\n",
      "5\n"
     ]
    }
   ],
   "source": [
    "#https://bitflyer2018-qual.contest.atcoder.jp/submissions/2604477\n",
    "N, D = list(map(int, input().split()))\n",
    "X = list(map(int, input().split()))\n",
    " \n",
    "L = [-1 for i in range(N)]\n",
    "R = [-1 for i in range(N)]\n",
    "left, right = 0, 0\n",
    "for mid in range(N):\n",
    "    while right < N and (X[right] - X[mid]) <= D:\n",
    "        right += 1\n",
    "    while left < mid and (X[mid] - X[left]) > D:\n",
    "        left += 1\n",
    "    R[mid] = right -1\n",
    "    L[mid] = left\n",
    " \n",
    "ans = 0\n",
    "for mid in range(N):\n",
    "    ans += (R[mid] - mid) * (mid - L[mid])\n",
    "for left in range(N):\n",
    "    ans -= (R[left] - left) * (R[left] - left - 1) // 2\n",
    "print(ans)"
   ]
  },
  {
   "cell_type": "code",
   "execution_count": 6,
   "metadata": {},
   "outputs": [
    {
     "name": "stdout",
     "output_type": "stream",
     "text": [
      "[-1, -1, -1, -1, -1]\n",
      "[-1, -1, -1, -1, -1]\n"
     ]
    }
   ],
   "source": [
    "L = [-1 for i in range(N)]\n",
    "R = [-1 for i in range(N)]\n",
    "print(L)\n",
    "print(R)"
   ]
  },
  {
   "cell_type": "code",
   "execution_count": 7,
   "metadata": {},
   "outputs": [
    {
     "name": "stdout",
     "output_type": "stream",
     "text": [
      "[4, -1, -1, -1, -1]\n",
      "[4, -1, -1, -1, -1]\n",
      "--------------------\n",
      "[4, 4, -1, -1, -1]\n",
      "[4, 4, -1, -1, -1]\n",
      "--------------------\n",
      "[4, 4, 4, -1, -1]\n",
      "[4, 4, 4, -1, -1]\n",
      "--------------------\n",
      "[4, 4, 4, 4, -1]\n",
      "[4, 4, 4, 4, -1]\n",
      "--------------------\n",
      "[4, 4, 4, 4, 4]\n",
      "[4, 4, 4, 4, 4]\n",
      "--------------------\n"
     ]
    }
   ],
   "source": [
    "for mid in range(N):\n",
    "    while right < N and (X[right] - X[mid]) <= D:\n",
    "        right += 1\n",
    "    while left < mid and (X[mid] - X[left]) > D:\n",
    "        left += 1\n",
    "    R[mid] = right -1\n",
    "    L[mid] = left\n",
    "    print(R)\n",
    "    print(L)\n",
    "    print('--------------------')"
   ]
  },
  {
   "cell_type": "code",
   "execution_count": 5,
   "metadata": {},
   "outputs": [
    {
     "data": {
      "text/plain": [
       "5"
      ]
     },
     "execution_count": 5,
     "metadata": {},
     "output_type": "execute_result"
    }
   ],
   "source": [
    "N"
   ]
  },
  {
   "cell_type": "code",
   "execution_count": 3,
   "metadata": {},
   "outputs": [
    {
     "data": {
      "text/plain": [
       "[0, 0, 0, 1, 2]"
      ]
     },
     "execution_count": 3,
     "metadata": {},
     "output_type": "execute_result"
    }
   ],
   "source": [
    "L"
   ]
  },
  {
   "cell_type": "code",
   "execution_count": 4,
   "metadata": {},
   "outputs": [
    {
     "data": {
      "text/plain": [
       "[2, 3, 4, 4, 4]"
      ]
     },
     "execution_count": 4,
     "metadata": {},
     "output_type": "execute_result"
    }
   ],
   "source": [
    "R"
   ]
  },
  {
   "cell_type": "code",
   "execution_count": null,
   "metadata": {},
   "outputs": [],
   "source": []
  }
 ],
 "metadata": {
  "kernelspec": {
   "display_name": "Python 3",
   "language": "python",
   "name": "python3"
  },
  "language_info": {
   "codemirror_mode": {
    "name": "ipython",
    "version": 3
   },
   "file_extension": ".py",
   "mimetype": "text/x-python",
   "name": "python",
   "nbconvert_exporter": "python",
   "pygments_lexer": "ipython3",
   "version": "3.6.5"
  }
 },
 "nbformat": 4,
 "nbformat_minor": 2
}
