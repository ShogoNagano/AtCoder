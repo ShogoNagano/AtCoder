{
 "cells": [
  {
   "cell_type": "code",
   "execution_count": 1,
   "metadata": {},
   "outputs": [
    {
     "name": "stdout",
     "output_type": "stream",
     "text": [
      "abc\n",
      "Yes\n"
     ]
    }
   ],
   "source": [
    "S = input()\n",
    " \n",
    "S1='abc'\n",
    "S2='acb'\n",
    "S3='bac'\n",
    "S4='bca'\n",
    "S5='cab'\n",
    "S6='cba'\n",
    "if S==S1:\n",
    "    print ('Yes')\n",
    "elif S==S2:\n",
    "    print ('Yes')\n",
    "elif S==S3:\n",
    "    print ('Yes')\n",
    "elif S==S4:\n",
    "    print ('Yes')\n",
    "elif S==S5:\n",
    "    print ('Yes')\n",
    "elif S==S6:\n",
    "    print ('Yes')\n",
    "else:\n",
    "    print ('No')"
   ]
  },
  {
   "cell_type": "markdown",
   "metadata": {},
   "source": [
    "MARKDO"
   ]
  },
  {
   "cell_type": "code",
   "execution_count": null,
   "metadata": {},
   "outputs": [],
   "source": []
  }
 ],
 "metadata": {
  "kernelspec": {
   "display_name": "Python 3",
   "language": "python",
   "name": "python3"
  },
  "language_info": {
   "codemirror_mode": {
    "name": "ipython",
    "version": 3
   },
   "file_extension": ".py",
   "mimetype": "text/x-python",
   "name": "python",
   "nbconvert_exporter": "python",
   "pygments_lexer": "ipython3",
   "version": "3.6.5"
  }
 },
 "nbformat": 4,
 "nbformat_minor": 2
}
