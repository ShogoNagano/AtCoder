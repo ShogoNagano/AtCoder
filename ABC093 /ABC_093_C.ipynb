{
 "cells": [
  {
   "cell_type": "code",
   "execution_count": 1,
   "metadata": {},
   "outputs": [
    {
     "name": "stdout",
     "output_type": "stream",
     "text": [
      "1 2 3\n",
      "3\n"
     ]
    }
   ],
   "source": [
    "A, B, C = map(int, input().split())\n",
    "Number=0\n",
    "count =0\n",
    " \n",
    "for i in range (55):\n",
    "    MAX=max(A,B,C)\n",
    "    Number=0\n",
    "    if MAX==A:\n",
    "        Number=Number+1\n",
    "    if MAX==B:\n",
    "        Number=Number+1\n",
    "    if MAX==C:\n",
    "        Number=Number+1\n",
    " \n",
    "    if Number ==1:\n",
    "        MAX=max(A,B,C)\n",
    "        if MAX!=A:\n",
    "            A=A+1\n",
    "        if MAX!=B:\n",
    "            B=B+1\n",
    "        if MAX!=C:\n",
    "            C=C+1\n",
    "        count=count +1\n",
    "        Number=0\n",
    " \n",
    "    if Number ==2:\n",
    "        MAX=max(A,B,C)\n",
    "        if MAX!=A:\n",
    "            A=A+2\n",
    "        if MAX!=B:\n",
    "            B=B+2\n",
    "        if MAX!=C:\n",
    "            C=C+2\n",
    "        count=count +1\n",
    "        Number=0\n",
    "    \n",
    "    if Number ==3:\n",
    "        print('%d'%(count))\n",
    "        break"
   ]
  },
  {
   "cell_type": "markdown",
   "metadata": {},
   "source": [
    "# github\n",
    "## jupyter\n",
    "### テスト------"
   ]
  },
  {
   "cell_type": "code",
   "execution_count": null,
   "metadata": {},
   "outputs": [],
   "source": []
  }
 ],
 "metadata": {
  "kernelspec": {
   "display_name": "Python 3",
   "language": "python",
   "name": "python3"
  },
  "language_info": {
   "codemirror_mode": {
    "name": "ipython",
    "version": 3
   },
   "file_extension": ".py",
   "mimetype": "text/x-python",
   "name": "python",
   "nbconvert_exporter": "python",
   "pygments_lexer": "ipython3",
   "version": "3.6.5"
  }
 },
 "nbformat": 4,
 "nbformat_minor": 2
}
