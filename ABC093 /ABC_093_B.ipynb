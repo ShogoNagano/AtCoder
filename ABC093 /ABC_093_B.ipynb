{
 "cells": [
  {
   "cell_type": "code",
   "execution_count": 1,
   "metadata": {},
   "outputs": [
    {
     "name": "stdout",
     "output_type": "stream",
     "text": [
      "1 2 3\n",
      "1\n",
      "2\n"
     ]
    }
   ],
   "source": [
    "A, B, K = map(int, input().split())\n",
    "K2=B-A+1\n",
    "K3=K2-K*2\n",
    "if K3 > 0:\n",
    "    for i in range (K):\n",
    "        print ('%d'%(A+i))\n",
    "    for i in range (K):\n",
    "        print ('%d'%(B-K+i+1))\n",
    "if K3 <= 0:\n",
    "    for i in range (B-A+1):\n",
    "        print ('%d'%(A+i))\n"
   ]
  },
  {
   "cell_type": "code",
   "execution_count": null,
   "metadata": {},
   "outputs": [],
   "source": []
  }
 ],
 "metadata": {
  "kernelspec": {
   "display_name": "Python 3",
   "language": "python",
   "name": "python3"
  },
  "language_info": {
   "codemirror_mode": {
    "name": "ipython",
    "version": 3
   },
   "file_extension": ".py",
   "mimetype": "text/x-python",
   "name": "python",
   "nbconvert_exporter": "python",
   "pygments_lexer": "ipython3",
   "version": "3.6.5"
  }
 },
 "nbformat": 4,
 "nbformat_minor": 2
}
