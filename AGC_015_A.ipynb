{
 "cells": [
  {
   "cell_type": "code",
   "execution_count": 5,
   "metadata": {},
   "outputs": [],
   "source": [
    "#総和\n",
    "#446の場合、最小と最大は4と6で確定。残りの二つが4,5,6のどれにあたるかは4,4 4,5 5,5 5,6 6,6,→5通り。\n",
    "#n=1orn=2ではない場合、max-min+1の全てのパターンを網羅できる。\n",
    "#n=1の場合、maxとminが同じ値ではない場合はout\n",
    "#n=2の場合は1通りしかありえない。(max=minの場合も1通り)"
   ]
  },
  {
   "cell_type": "code",
   "execution_count": 17,
   "metadata": {},
   "outputs": [
    {
     "name": "stdout",
     "output_type": "stream",
     "text": [
      "1 3 3\n"
     ]
    }
   ],
   "source": [
    "N, A, B=map(int,input().split())"
   ]
  },
  {
   "cell_type": "code",
   "execution_count": 18,
   "metadata": {},
   "outputs": [
    {
     "name": "stdout",
     "output_type": "stream",
     "text": [
      "1\n"
     ]
    },
    {
     "ename": "SystemExit",
     "evalue": "",
     "output_type": "error",
     "traceback": [
      "An exception has occurred, use %tb to see the full traceback.\n",
      "\u001b[0;31mSystemExit\u001b[0m\n"
     ]
    },
    {
     "name": "stderr",
     "output_type": "stream",
     "text": [
      "/usr/local/lib/python3.6/site-packages/IPython/core/interactiveshell.py:2971: UserWarning: To exit: use 'exit', 'quit', or Ctrl-D.\n",
      "  warn(\"To exit: use 'exit', 'quit', or Ctrl-D.\", stacklevel=1)\n"
     ]
    }
   ],
   "source": [
    "import sys\n",
    "\n",
    "if A>B:\n",
    "    print (0)\n",
    "    sys.exit()\n",
    "    \n",
    "if N==1:\n",
    "    if A==B:\n",
    "        print(1)\n",
    "    else:\n",
    "        print(0)\n",
    "    sys.exit()\n",
    "\n",
    "if N==2:\n",
    "    print (1)\n",
    "    sys.exit()\n",
    "\n",
    "print (B*(N-2)-A*(N-2)+1)"
   ]
  },
  {
   "cell_type": "code",
   "execution_count": null,
   "metadata": {},
   "outputs": [],
   "source": []
  }
 ],
 "metadata": {
  "kernelspec": {
   "display_name": "Python 3",
   "language": "python",
   "name": "python3"
  },
  "language_info": {
   "codemirror_mode": {
    "name": "ipython",
    "version": 3
   },
   "file_extension": ".py",
   "mimetype": "text/x-python",
   "name": "python",
   "nbconvert_exporter": "python",
   "pygments_lexer": "ipython3",
   "version": "3.6.5"
  }
 },
 "nbformat": 4,
 "nbformat_minor": 2
}
