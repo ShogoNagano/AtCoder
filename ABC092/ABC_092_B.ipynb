{
 "cells": [
  {
   "cell_type": "code",
   "execution_count": null,
   "metadata": {},
   "outputs": [],
   "source": [
    "N = int(input())\n",
    "D,X =  map(int, input().split())\n",
    "N_chocolate=0\n",
    "for i in range (N):\n",
    "\tA= int(input())\n",
    "\tif A == 1:\n",
    "\t\tN_chocolate=N_chocolate+D-1\n",
    "\telse:\n",
    "\t\tN_chocolate=N_chocolate+int((D-1)/A)\n",
    "output=N_chocolate+X+N\n",
    "print (output)"
   ]
  }
 ],
 "metadata": {
  "kernelspec": {
   "display_name": "Python 3",
   "language": "python",
   "name": "python3"
  },
  "language_info": {
   "codemirror_mode": {
    "name": "ipython",
    "version": 3
   },
   "file_extension": ".py",
   "mimetype": "text/x-python",
   "name": "python",
   "nbconvert_exporter": "python",
   "pygments_lexer": "ipython3",
   "version": "3.6.5"
  }
 },
 "nbformat": 4,
 "nbformat_minor": 2
}
