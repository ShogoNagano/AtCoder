{
 "cells": [
  {
   "cell_type": "code",
   "execution_count": null,
   "metadata": {},
   "outputs": [],
   "source": [
    "N = int(input())\n",
    "A = list(map(int, input().split()))\n",
    "\n",
    "A_before=0\n",
    "full_price=0\n",
    "for i in range (N):\n",
    "    full_price=full_price+abs(A[i]-A_before)\n",
    "    A_before=A[i]\n",
    "full_price=full_price+abs(A[N-1])\n",
    "\n",
    "total_price=0\n",
    "#No.1\n",
    "negative=abs(A[0]-0)+ abs(A[1]-A[0])-abs(A[1]-(0))\n",
    "total_price=full_price-negative\n",
    "print(total_price)\n",
    "\n",
    "for j in range (1,N-1):\n",
    "    negative=abs(A[j]-A[j-1])+ abs(A[j+1]-A[j])-abs(A[j+1]-(A[j-1]))\n",
    "    total_price=full_price-negative\n",
    "    print(total_price)\n",
    "    \n",
    "#No.Last\n",
    "negative=abs(0-A[N-1])+ abs(A[N-1]-A[N-2])-abs(0-A[N-2]) \n",
    "total_price=full_price-negative\n",
    "print(total_price)\n"
   ]
  }
 ],
 "metadata": {
  "kernelspec": {
   "display_name": "Python 3",
   "language": "python",
   "name": "python3"
  },
  "language_info": {
   "codemirror_mode": {
    "name": "ipython",
    "version": 3
   },
   "file_extension": ".py",
   "mimetype": "text/x-python",
   "name": "python",
   "nbconvert_exporter": "python",
   "pygments_lexer": "ipython3",
   "version": "3.6.5"
  }
 },
 "nbformat": 4,
 "nbformat_minor": 2
}
